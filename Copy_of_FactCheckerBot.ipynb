{
  "nbformat": 4,
  "nbformat_minor": 0,
  "metadata": {
    "colab": {
      "provenance": [],
      "authorship_tag": "ABX9TyNVv2h55ETzGGej/mkjmw2c",
      "include_colab_link": true
    },
    "kernelspec": {
      "name": "python3",
      "display_name": "Python 3"
    },
    "language_info": {
      "name": "python"
    }
  },
  "cells": [
    {
      "cell_type": "markdown",
      "metadata": {
        "id": "view-in-github",
        "colab_type": "text"
      },
      "source": [
        "<a href=\"https://colab.research.google.com/github/rlahiff/rlahiff-introduction-to-github/blob/main/Copy_of_FactCheckerBot.ipynb\" target=\"_parent\"><img src=\"https://colab.research.google.com/assets/colab-badge.svg\" alt=\"Open In Colab\"/></a>"
      ]
    },
    {
      "cell_type": "code",
      "execution_count": null,
      "metadata": {
        "id": "BF6SqAHstc7w"
      },
      "outputs": [],
      "source": []
    },
    {
      "cell_type": "code",
      "source": [],
      "metadata": {
        "id": "GVjGBxUAuhvU"
      },
      "execution_count": null,
      "outputs": []
    },
    {
      "cell_type": "markdown",
      "metadata": {
        "id": "8a6ed472"
      },
      "source": [
        "# Task\n",
        "Build a fact checker bot using Python that utilizes OpenAI GPT for fact-checking and saves the output to a Google Sheet."
      ]
    },
    {
      "cell_type": "markdown",
      "metadata": {
        "id": "9938714c"
      },
      "source": [
        "## Set up the environment\n",
        "\n",
        "### Subtask:\n",
        "Install necessary libraries (OpenAI, google-api-python-client, google-auth-httplib2, google-auth-oauthlib). Authenticate with Google Sheets API.\n"
      ]
    },
    {
      "cell_type": "markdown",
      "metadata": {
        "id": "3b78ba23"
      },
      "source": [
        "**Reasoning**:\n",
        "Install the required libraries using pip.\n",
        "\n"
      ]
    },
    {
      "cell_type": "code",
      "metadata": {
        "colab": {
          "base_uri": "https://localhost:8080/"
        },
        "id": "78c6285c",
        "outputId": "d60dc764-3a14-4c43-b1ae-bfb0b2581ff5"
      },
      "source": [
        "%pip install openai google-api-python-client google-auth-httplib2 google-auth-oauthlib"
      ],
      "execution_count": null,
      "outputs": [
        {
          "output_type": "stream",
          "name": "stdout",
          "text": [
            "Requirement already satisfied: openai in /usr/local/lib/python3.11/dist-packages (1.98.0)\n",
            "Requirement already satisfied: google-api-python-client in /usr/local/lib/python3.11/dist-packages (2.177.0)\n",
            "Requirement already satisfied: google-auth-httplib2 in /usr/local/lib/python3.11/dist-packages (0.2.0)\n",
            "Requirement already satisfied: google-auth-oauthlib in /usr/local/lib/python3.11/dist-packages (1.2.2)\n",
            "Requirement already satisfied: anyio<5,>=3.5.0 in /usr/local/lib/python3.11/dist-packages (from openai) (4.9.0)\n",
            "Requirement already satisfied: distro<2,>=1.7.0 in /usr/local/lib/python3.11/dist-packages (from openai) (1.9.0)\n",
            "Requirement already satisfied: httpx<1,>=0.23.0 in /usr/local/lib/python3.11/dist-packages (from openai) (0.28.1)\n",
            "Requirement already satisfied: jiter<1,>=0.4.0 in /usr/local/lib/python3.11/dist-packages (from openai) (0.10.0)\n",
            "Requirement already satisfied: pydantic<3,>=1.9.0 in /usr/local/lib/python3.11/dist-packages (from openai) (2.11.7)\n",
            "Requirement already satisfied: sniffio in /usr/local/lib/python3.11/dist-packages (from openai) (1.3.1)\n",
            "Requirement already satisfied: tqdm>4 in /usr/local/lib/python3.11/dist-packages (from openai) (4.67.1)\n",
            "Requirement already satisfied: typing-extensions<5,>=4.11 in /usr/local/lib/python3.11/dist-packages (from openai) (4.14.1)\n",
            "Requirement already satisfied: httplib2<1.0.0,>=0.19.0 in /usr/local/lib/python3.11/dist-packages (from google-api-python-client) (0.22.0)\n",
            "Requirement already satisfied: google-auth!=2.24.0,!=2.25.0,<3.0.0,>=1.32.0 in /usr/local/lib/python3.11/dist-packages (from google-api-python-client) (2.38.0)\n",
            "Requirement already satisfied: google-api-core!=2.0.*,!=2.1.*,!=2.2.*,!=2.3.0,<3.0.0,>=1.31.5 in /usr/local/lib/python3.11/dist-packages (from google-api-python-client) (2.25.1)\n",
            "Requirement already satisfied: uritemplate<5,>=3.0.1 in /usr/local/lib/python3.11/dist-packages (from google-api-python-client) (4.2.0)\n",
            "Requirement already satisfied: requests-oauthlib>=0.7.0 in /usr/local/lib/python3.11/dist-packages (from google-auth-oauthlib) (2.0.0)\n",
            "Requirement already satisfied: idna>=2.8 in /usr/local/lib/python3.11/dist-packages (from anyio<5,>=3.5.0->openai) (3.10)\n",
            "Requirement already satisfied: googleapis-common-protos<2.0.0,>=1.56.2 in /usr/local/lib/python3.11/dist-packages (from google-api-core!=2.0.*,!=2.1.*,!=2.2.*,!=2.3.0,<3.0.0,>=1.31.5->google-api-python-client) (1.70.0)\n",
            "Requirement already satisfied: protobuf!=3.20.0,!=3.20.1,!=4.21.0,!=4.21.1,!=4.21.2,!=4.21.3,!=4.21.4,!=4.21.5,<7.0.0,>=3.19.5 in /usr/local/lib/python3.11/dist-packages (from google-api-core!=2.0.*,!=2.1.*,!=2.2.*,!=2.3.0,<3.0.0,>=1.31.5->google-api-python-client) (5.29.5)\n",
            "Requirement already satisfied: proto-plus<2.0.0,>=1.22.3 in /usr/local/lib/python3.11/dist-packages (from google-api-core!=2.0.*,!=2.1.*,!=2.2.*,!=2.3.0,<3.0.0,>=1.31.5->google-api-python-client) (1.26.1)\n",
            "Requirement already satisfied: requests<3.0.0,>=2.18.0 in /usr/local/lib/python3.11/dist-packages (from google-api-core!=2.0.*,!=2.1.*,!=2.2.*,!=2.3.0,<3.0.0,>=1.31.5->google-api-python-client) (2.32.3)\n",
            "Requirement already satisfied: cachetools<6.0,>=2.0.0 in /usr/local/lib/python3.11/dist-packages (from google-auth!=2.24.0,!=2.25.0,<3.0.0,>=1.32.0->google-api-python-client) (5.5.2)\n",
            "Requirement already satisfied: pyasn1-modules>=0.2.1 in /usr/local/lib/python3.11/dist-packages (from google-auth!=2.24.0,!=2.25.0,<3.0.0,>=1.32.0->google-api-python-client) (0.4.2)\n",
            "Requirement already satisfied: rsa<5,>=3.1.4 in /usr/local/lib/python3.11/dist-packages (from google-auth!=2.24.0,!=2.25.0,<3.0.0,>=1.32.0->google-api-python-client) (4.9.1)\n",
            "Requirement already satisfied: pyparsing!=3.0.0,!=3.0.1,!=3.0.2,!=3.0.3,<4,>=2.4.2 in /usr/local/lib/python3.11/dist-packages (from httplib2<1.0.0,>=0.19.0->google-api-python-client) (3.2.3)\n",
            "Requirement already satisfied: certifi in /usr/local/lib/python3.11/dist-packages (from httpx<1,>=0.23.0->openai) (2025.7.14)\n",
            "Requirement already satisfied: httpcore==1.* in /usr/local/lib/python3.11/dist-packages (from httpx<1,>=0.23.0->openai) (1.0.9)\n",
            "Requirement already satisfied: h11>=0.16 in /usr/local/lib/python3.11/dist-packages (from httpcore==1.*->httpx<1,>=0.23.0->openai) (0.16.0)\n",
            "Requirement already satisfied: annotated-types>=0.6.0 in /usr/local/lib/python3.11/dist-packages (from pydantic<3,>=1.9.0->openai) (0.7.0)\n",
            "Requirement already satisfied: pydantic-core==2.33.2 in /usr/local/lib/python3.11/dist-packages (from pydantic<3,>=1.9.0->openai) (2.33.2)\n",
            "Requirement already satisfied: typing-inspection>=0.4.0 in /usr/local/lib/python3.11/dist-packages (from pydantic<3,>=1.9.0->openai) (0.4.1)\n",
            "Requirement already satisfied: oauthlib>=3.0.0 in /usr/local/lib/python3.11/dist-packages (from requests-oauthlib>=0.7.0->google-auth-oauthlib) (3.3.1)\n",
            "Requirement already satisfied: pyasn1<0.7.0,>=0.6.1 in /usr/local/lib/python3.11/dist-packages (from pyasn1-modules>=0.2.1->google-auth!=2.24.0,!=2.25.0,<3.0.0,>=1.32.0->google-api-python-client) (0.6.1)\n",
            "Requirement already satisfied: charset-normalizer<4,>=2 in /usr/local/lib/python3.11/dist-packages (from requests<3.0.0,>=2.18.0->google-api-core!=2.0.*,!=2.1.*,!=2.2.*,!=2.3.0,<3.0.0,>=1.31.5->google-api-python-client) (3.4.2)\n",
            "Requirement already satisfied: urllib3<3,>=1.21.1 in /usr/local/lib/python3.11/dist-packages (from requests<3.0.0,>=2.18.0->google-api-core!=2.0.*,!=2.1.*,!=2.2.*,!=2.3.0,<3.0.0,>=1.31.5->google-api-python-client) (2.5.0)\n"
          ]
        }
      ]
    },
    {
      "cell_type": "markdown",
      "metadata": {
        "id": "b4045749"
      },
      "source": [
        "**Reasoning**:\n",
        "Authenticate with the Google Sheets API using the downloaded credentials.\n",
        "\n"
      ]
    },
    {
      "cell_type": "code",
      "metadata": {
        "colab": {
          "base_uri": "https://localhost:8080/",
          "height": 339
        },
        "id": "f236fe19",
        "outputId": "07deac3e-2192-4860-8ebc-7ef1ef073a10"
      },
      "source": [
        "import os.path\n",
        "\n",
        "from google.auth.transport.requests import Request\n",
        "from google.oauth2.credentials import Credentials\n",
        "from google_auth_oauthlib.flow import InstalledAppFlow\n",
        "from googleapiclient.discovery import build\n",
        "from googleapiclient.errors import HttpError\n",
        "\n",
        "# If modifying these scopes, delete the file token.json.\n",
        "SCOPES = [\"https://www.googleapis.com/auth/spreadsheets\"]\n",
        "\n",
        "def authenticate_google_sheets():\n",
        "  \"\"\"Shows basic usage of the Sheets API.\n",
        "  Prints values from a sample spreadsheet.\n",
        "  \"\"\"\n",
        "  creds = None\n",
        "  # The file token.json stores the user's access and refresh tokens, and is\n",
        "  # created automatically when the authorization flow completes for the first\n",
        "  # time.\n",
        "  if os.path.exists(\"token.json\"):\n",
        "    creds = Credentials.from_authorized_user_file(\"token.json\", SCOPES)\n",
        "  # If there are no (valid) credentials available, let the user log in.\n",
        "  if not creds or not creds.valid:\n",
        "    if creds and creds.expired and creds.refresh_token:\n",
        "      creds.refresh(Request())\n",
        "    else:\n",
        "      flow = InstalledAppFlow.from_client_secrets_file(\n",
        "          \"credentials.json\", SCOPES\n",
        "      )\n",
        "      creds = flow.run_local_server(port=0)\n",
        "    # Save the credentials for the next run\n",
        "    with open(\"token.json\", \"w\") as token:\n",
        "      token.write(creds.to_json())\n",
        "\n",
        "  try:\n",
        "    service = build(\"sheets\", \"v4\", credentials=creds)\n",
        "    print(\"Successfully authenticated with Google Sheets API.\")\n",
        "    return service\n",
        "  except HttpError as err:\n",
        "    print(err)\n",
        "    return None\n",
        "\n",
        "# Call the authentication function\n",
        "sheets_service = authenticate_google_sheets()"
      ],
      "execution_count": null,
      "outputs": [
        {
          "output_type": "error",
          "ename": "FileNotFoundError",
          "evalue": "[Errno 2] No such file or directory: 'credentials.json'",
          "traceback": [
            "\u001b[0;31m---------------------------------------------------------------------------\u001b[0m",
            "\u001b[0;31mFileNotFoundError\u001b[0m                         Traceback (most recent call last)",
            "\u001b[0;32m/tmp/ipython-input-2601939104.py\u001b[0m in \u001b[0;36m<cell line: 0>\u001b[0;34m()\u001b[0m\n\u001b[1;32m     42\u001b[0m \u001b[0;34m\u001b[0m\u001b[0m\n\u001b[1;32m     43\u001b[0m \u001b[0;31m# Call the authentication function\u001b[0m\u001b[0;34m\u001b[0m\u001b[0;34m\u001b[0m\u001b[0m\n\u001b[0;32m---> 44\u001b[0;31m \u001b[0msheets_service\u001b[0m \u001b[0;34m=\u001b[0m \u001b[0mauthenticate_google_sheets\u001b[0m\u001b[0;34m(\u001b[0m\u001b[0;34m)\u001b[0m\u001b[0;34m\u001b[0m\u001b[0;34m\u001b[0m\u001b[0m\n\u001b[0m",
            "\u001b[0;32m/tmp/ipython-input-2601939104.py\u001b[0m in \u001b[0;36mauthenticate_google_sheets\u001b[0;34m()\u001b[0m\n\u001b[1;32m     25\u001b[0m       \u001b[0mcreds\u001b[0m\u001b[0;34m.\u001b[0m\u001b[0mrefresh\u001b[0m\u001b[0;34m(\u001b[0m\u001b[0mRequest\u001b[0m\u001b[0;34m(\u001b[0m\u001b[0;34m)\u001b[0m\u001b[0;34m)\u001b[0m\u001b[0;34m\u001b[0m\u001b[0;34m\u001b[0m\u001b[0m\n\u001b[1;32m     26\u001b[0m     \u001b[0;32melse\u001b[0m\u001b[0;34m:\u001b[0m\u001b[0;34m\u001b[0m\u001b[0;34m\u001b[0m\u001b[0m\n\u001b[0;32m---> 27\u001b[0;31m       flow = InstalledAppFlow.from_client_secrets_file(\n\u001b[0m\u001b[1;32m     28\u001b[0m           \u001b[0;34m\"credentials.json\"\u001b[0m\u001b[0;34m,\u001b[0m \u001b[0mSCOPES\u001b[0m\u001b[0;34m\u001b[0m\u001b[0;34m\u001b[0m\u001b[0m\n\u001b[1;32m     29\u001b[0m       )\n",
            "\u001b[0;32m/usr/local/lib/python3.11/dist-packages/google_auth_oauthlib/flow.py\u001b[0m in \u001b[0;36mfrom_client_secrets_file\u001b[0;34m(cls, client_secrets_file, scopes, **kwargs)\u001b[0m\n\u001b[1;32m    196\u001b[0m             \u001b[0mFlow\u001b[0m\u001b[0;34m:\u001b[0m \u001b[0mThe\u001b[0m \u001b[0mconstructed\u001b[0m \u001b[0mFlow\u001b[0m \u001b[0minstance\u001b[0m\u001b[0;34m.\u001b[0m\u001b[0;34m\u001b[0m\u001b[0;34m\u001b[0m\u001b[0m\n\u001b[1;32m    197\u001b[0m         \"\"\"\n\u001b[0;32m--> 198\u001b[0;31m         \u001b[0;32mwith\u001b[0m \u001b[0mopen\u001b[0m\u001b[0;34m(\u001b[0m\u001b[0mclient_secrets_file\u001b[0m\u001b[0;34m,\u001b[0m \u001b[0;34m\"r\"\u001b[0m\u001b[0;34m)\u001b[0m \u001b[0;32mas\u001b[0m \u001b[0mjson_file\u001b[0m\u001b[0;34m:\u001b[0m\u001b[0;34m\u001b[0m\u001b[0;34m\u001b[0m\u001b[0m\n\u001b[0m\u001b[1;32m    199\u001b[0m             \u001b[0mclient_config\u001b[0m \u001b[0;34m=\u001b[0m \u001b[0mjson\u001b[0m\u001b[0;34m.\u001b[0m\u001b[0mload\u001b[0m\u001b[0;34m(\u001b[0m\u001b[0mjson_file\u001b[0m\u001b[0;34m)\u001b[0m\u001b[0;34m\u001b[0m\u001b[0;34m\u001b[0m\u001b[0m\n\u001b[1;32m    200\u001b[0m \u001b[0;34m\u001b[0m\u001b[0m\n",
            "\u001b[0;31mFileNotFoundError\u001b[0m: [Errno 2] No such file or directory: 'credentials.json'"
          ]
        }
      ]
    },
    {
      "cell_type": "markdown",
      "metadata": {
        "id": "baad1699"
      },
      "source": [
        "## Get input\n",
        "\n",
        "### Subtask:\n",
        "Define how the bot will receive the facts to be checked (e.g., from a user input, a list, or another source).\n"
      ]
    },
    {
      "cell_type": "markdown",
      "metadata": {
        "id": "06156349"
      },
      "source": [
        "**Reasoning**:\n",
        "Create a list variable to store the sample facts.\n",
        "\n"
      ]
    },
    {
      "cell_type": "code",
      "metadata": {
        "colab": {
          "base_uri": "https://localhost:8080/"
        },
        "id": "a4389080",
        "outputId": "40e0992d-8bd6-4d86-ecc6-abf95225178b"
      },
      "source": [
        "facts_to_check = [\n",
        "    \"The capital of France is Berlin.\",\n",
        "    \"The sun is a planet.\",\n",
        "    \"Water boils at 100 degrees Celsius at standard atmospheric pressure.\",\n",
        "    \"Birds can fly.\",\n",
        "    \"Humans have gills.\"\n",
        "]\n",
        "\n",
        "print(facts_to_check)"
      ],
      "execution_count": null,
      "outputs": [
        {
          "output_type": "stream",
          "name": "stdout",
          "text": [
            "['The capital of France is Berlin.', 'The sun is a planet.', 'Water boils at 100 degrees Celsius at standard atmospheric pressure.', 'Birds can fly.', 'Humans have gills.']\n"
          ]
        }
      ]
    },
    {
      "cell_type": "markdown",
      "metadata": {
        "id": "e9536a9b"
      },
      "source": [
        "## Fact checking with openai gpt\n",
        "\n",
        "### Subtask:\n",
        "Write code to send the fact to the OpenAI API and get the fact-checked response.\n"
      ]
    },
    {
      "cell_type": "markdown",
      "metadata": {
        "id": "a0f6dcd2"
      },
      "source": [
        "**Reasoning**:\n",
        "Define a function to fact-check a single fact using the OpenAI API and then iterate through the list of facts, calling this function and storing the results.\n",
        "\n"
      ]
    },
    {
      "cell_type": "code",
      "metadata": {
        "colab": {
          "base_uri": "https://localhost:8080/"
        },
        "id": "f97dff69",
        "outputId": "72ea13d4-dd09-421c-aa89-661a4b9c19b1"
      },
      "source": [
        "import openai\n",
        "import os\n",
        "\n",
        "# Set your OpenAI API key\n",
        "openai.api_key = os.environ.get(\"OPENAI_API_KEY\")\n",
        "\n",
        "def fact_check_with_openai(fact):\n",
        "    \"\"\"Fact checks a given fact using the OpenAI API.\"\"\"\n",
        "    try:\n",
        "        response = openai.ChatCompletion.create(\n",
        "            model=\"gpt-3.5-turbo\",\n",
        "            messages=[\n",
        "                {\"role\": \"system\", \"content\": \"You are a helpful fact-checker.\"},\n",
        "                {\"role\": \"user\", \"content\": f\"Fact check this: '{fact}'. Provide a concise response stating if it's true or false and a brief explanation.\"}\n",
        "            ],\n",
        "            max_tokens=100\n",
        "        )\n",
        "        return response.choices[0].message['content'].strip()\n",
        "    except Exception as e:\n",
        "        print(f\"An error occurred while fact-checking '{fact}': {e}\")\n",
        "        return \"Error during fact-checking.\"\n",
        "\n",
        "fact_checked_results = []\n",
        "for fact in facts_to_check:\n",
        "    checked_response = fact_check_with_openai(fact)\n",
        "    fact_checked_results.append({\"original_fact\": fact, \"checked_response\": checked_response})\n",
        "\n",
        "print(fact_checked_results)"
      ],
      "execution_count": null,
      "outputs": [
        {
          "output_type": "stream",
          "name": "stdout",
          "text": [
            "An error occurred while fact-checking 'The capital of France is Berlin.': \n",
            "\n",
            "You tried to access openai.ChatCompletion, but this is no longer supported in openai>=1.0.0 - see the README at https://github.com/openai/openai-python for the API.\n",
            "\n",
            "You can run `openai migrate` to automatically upgrade your codebase to use the 1.0.0 interface. \n",
            "\n",
            "Alternatively, you can pin your installation to the old version, e.g. `pip install openai==0.28`\n",
            "\n",
            "A detailed migration guide is available here: https://github.com/openai/openai-python/discussions/742\n",
            "\n",
            "An error occurred while fact-checking 'The sun is a planet.': \n",
            "\n",
            "You tried to access openai.ChatCompletion, but this is no longer supported in openai>=1.0.0 - see the README at https://github.com/openai/openai-python for the API.\n",
            "\n",
            "You can run `openai migrate` to automatically upgrade your codebase to use the 1.0.0 interface. \n",
            "\n",
            "Alternatively, you can pin your installation to the old version, e.g. `pip install openai==0.28`\n",
            "\n",
            "A detailed migration guide is available here: https://github.com/openai/openai-python/discussions/742\n",
            "\n",
            "An error occurred while fact-checking 'Water boils at 100 degrees Celsius at standard atmospheric pressure.': \n",
            "\n",
            "You tried to access openai.ChatCompletion, but this is no longer supported in openai>=1.0.0 - see the README at https://github.com/openai/openai-python for the API.\n",
            "\n",
            "You can run `openai migrate` to automatically upgrade your codebase to use the 1.0.0 interface. \n",
            "\n",
            "Alternatively, you can pin your installation to the old version, e.g. `pip install openai==0.28`\n",
            "\n",
            "A detailed migration guide is available here: https://github.com/openai/openai-python/discussions/742\n",
            "\n",
            "An error occurred while fact-checking 'Birds can fly.': \n",
            "\n",
            "You tried to access openai.ChatCompletion, but this is no longer supported in openai>=1.0.0 - see the README at https://github.com/openai/openai-python for the API.\n",
            "\n",
            "You can run `openai migrate` to automatically upgrade your codebase to use the 1.0.0 interface. \n",
            "\n",
            "Alternatively, you can pin your installation to the old version, e.g. `pip install openai==0.28`\n",
            "\n",
            "A detailed migration guide is available here: https://github.com/openai/openai-python/discussions/742\n",
            "\n",
            "An error occurred while fact-checking 'Humans have gills.': \n",
            "\n",
            "You tried to access openai.ChatCompletion, but this is no longer supported in openai>=1.0.0 - see the README at https://github.com/openai/openai-python for the API.\n",
            "\n",
            "You can run `openai migrate` to automatically upgrade your codebase to use the 1.0.0 interface. \n",
            "\n",
            "Alternatively, you can pin your installation to the old version, e.g. `pip install openai==0.28`\n",
            "\n",
            "A detailed migration guide is available here: https://github.com/openai/openai-python/discussions/742\n",
            "\n",
            "[{'original_fact': 'The capital of France is Berlin.', 'checked_response': 'Error during fact-checking.'}, {'original_fact': 'The sun is a planet.', 'checked_response': 'Error during fact-checking.'}, {'original_fact': 'Water boils at 100 degrees Celsius at standard atmospheric pressure.', 'checked_response': 'Error during fact-checking.'}, {'original_fact': 'Birds can fly.', 'checked_response': 'Error during fact-checking.'}, {'original_fact': 'Humans have gills.', 'checked_response': 'Error during fact-checking.'}]\n"
          ]
        }
      ]
    },
    {
      "cell_type": "markdown",
      "metadata": {
        "id": "3a2ab7a5"
      },
      "source": [
        "**Reasoning**:\n",
        "The previous code failed because the OpenAI API usage is outdated. Update the code to use the new OpenAI library syntax.\n",
        "\n"
      ]
    },
    {
      "cell_type": "code",
      "metadata": {
        "colab": {
          "base_uri": "https://localhost:8080/",
          "height": 402
        },
        "id": "9d15c747",
        "outputId": "92b240d3-37ab-4c24-c129-dac7e6a22980"
      },
      "source": [
        "from openai import OpenAI\n",
        "import os\n",
        "\n",
        "# Set your OpenAI API key\n",
        "openai_client = OpenAI(api_key=os.environ.get(\"OPENAI_API_KEY\"))\n",
        "\n",
        "def fact_check_with_openai(fact):\n",
        "    \"\"\"Fact checks a given fact using the OpenAI API.\"\"\"\n",
        "    try:\n",
        "        response = openai_client.chat.completions.create(\n",
        "            model=\"gpt-3.5-turbo\",\n",
        "            messages=[\n",
        "                {\"role\": \"system\", \"content\": \"You are a helpful fact-checker.\"},\n",
        "                {\"role\": \"user\", \"content\": f\"Fact check this: '{fact}'. Provide a concise response stating if it's true or false and a brief explanation.\"}\n",
        "            ],\n",
        "            max_tokens=100\n",
        "        )\n",
        "        return response.choices[0].message.content.strip()\n",
        "    except Exception as e:\n",
        "        print(f\"An error occurred while fact-checking '{fact}': {e}\")\n",
        "        return \"Error during fact-checking.\"\n",
        "\n",
        "fact_checked_results = []\n",
        "for fact in facts_to_check:\n",
        "    checked_response = fact_check_with_openai(fact)\n",
        "    fact_checked_results.append({\"original_fact\": fact, \"checked_response\": checked_response})\n",
        "\n",
        "print(fact_checked_results)"
      ],
      "execution_count": null,
      "outputs": [
        {
          "output_type": "error",
          "ename": "OpenAIError",
          "evalue": "The api_key client option must be set either by passing api_key to the client or by setting the OPENAI_API_KEY environment variable",
          "traceback": [
            "\u001b[0;31m---------------------------------------------------------------------------\u001b[0m",
            "\u001b[0;31mOpenAIError\u001b[0m                               Traceback (most recent call last)",
            "\u001b[0;32m/tmp/ipython-input-2926113056.py\u001b[0m in \u001b[0;36m<cell line: 0>\u001b[0;34m()\u001b[0m\n\u001b[1;32m      3\u001b[0m \u001b[0;34m\u001b[0m\u001b[0m\n\u001b[1;32m      4\u001b[0m \u001b[0;31m# Set your OpenAI API key\u001b[0m\u001b[0;34m\u001b[0m\u001b[0;34m\u001b[0m\u001b[0m\n\u001b[0;32m----> 5\u001b[0;31m \u001b[0mopenai_client\u001b[0m \u001b[0;34m=\u001b[0m \u001b[0mOpenAI\u001b[0m\u001b[0;34m(\u001b[0m\u001b[0mapi_key\u001b[0m\u001b[0;34m=\u001b[0m\u001b[0mos\u001b[0m\u001b[0;34m.\u001b[0m\u001b[0menviron\u001b[0m\u001b[0;34m.\u001b[0m\u001b[0mget\u001b[0m\u001b[0;34m(\u001b[0m\u001b[0;34m\"OPENAI_API_KEY\"\u001b[0m\u001b[0;34m)\u001b[0m\u001b[0;34m)\u001b[0m\u001b[0;34m\u001b[0m\u001b[0;34m\u001b[0m\u001b[0m\n\u001b[0m\u001b[1;32m      6\u001b[0m \u001b[0;34m\u001b[0m\u001b[0m\n\u001b[1;32m      7\u001b[0m \u001b[0;32mdef\u001b[0m \u001b[0mfact_check_with_openai\u001b[0m\u001b[0;34m(\u001b[0m\u001b[0mfact\u001b[0m\u001b[0;34m)\u001b[0m\u001b[0;34m:\u001b[0m\u001b[0;34m\u001b[0m\u001b[0;34m\u001b[0m\u001b[0m\n",
            "\u001b[0;32m/usr/local/lib/python3.11/dist-packages/openai/_client.py\u001b[0m in \u001b[0;36m__init__\u001b[0;34m(self, api_key, organization, project, webhook_secret, base_url, websocket_base_url, timeout, max_retries, default_headers, default_query, http_client, _strict_response_validation)\u001b[0m\n\u001b[1;32m    128\u001b[0m             \u001b[0mapi_key\u001b[0m \u001b[0;34m=\u001b[0m \u001b[0mos\u001b[0m\u001b[0;34m.\u001b[0m\u001b[0menviron\u001b[0m\u001b[0;34m.\u001b[0m\u001b[0mget\u001b[0m\u001b[0;34m(\u001b[0m\u001b[0;34m\"OPENAI_API_KEY\"\u001b[0m\u001b[0;34m)\u001b[0m\u001b[0;34m\u001b[0m\u001b[0;34m\u001b[0m\u001b[0m\n\u001b[1;32m    129\u001b[0m         \u001b[0;32mif\u001b[0m \u001b[0mapi_key\u001b[0m \u001b[0;32mis\u001b[0m \u001b[0;32mNone\u001b[0m\u001b[0;34m:\u001b[0m\u001b[0;34m\u001b[0m\u001b[0;34m\u001b[0m\u001b[0m\n\u001b[0;32m--> 130\u001b[0;31m             raise OpenAIError(\n\u001b[0m\u001b[1;32m    131\u001b[0m                 \u001b[0;34m\"The api_key client option must be set either by passing api_key to the client or by setting the OPENAI_API_KEY environment variable\"\u001b[0m\u001b[0;34m\u001b[0m\u001b[0;34m\u001b[0m\u001b[0m\n\u001b[1;32m    132\u001b[0m             )\n",
            "\u001b[0;31mOpenAIError\u001b[0m: The api_key client option must be set either by passing api_key to the client or by setting the OPENAI_API_KEY environment variable"
          ]
        }
      ]
    },
    {
      "cell_type": "markdown",
      "metadata": {
        "id": "8b6774da"
      },
      "source": [
        "## Fact checking with openai gpt - retry 1\n",
        "\n",
        "### Subtask:\n",
        "Retry fact checking with openai gpt after fixing the missing API key issue.\n"
      ]
    },
    {
      "cell_type": "markdown",
      "metadata": {
        "id": "70501c2a"
      },
      "source": [
        "**Reasoning**:\n",
        "Set the OPENAI_API_KEY environment variable and then iterate through the facts_to_check list, calling the fact_check_with_openai function for each fact and appending the results to the fact_checked_results list as dictionaries. Finally, print the fact_checked_results list.\n",
        "\n"
      ]
    },
    {
      "cell_type": "code",
      "metadata": {
        "colab": {
          "base_uri": "https://localhost:8080/"
        },
        "id": "3bf0c148",
        "outputId": "8ea8ad59-c4bf-4027-b40b-ca5c88381274"
      },
      "source": [
        "import os\n",
        "from openai import OpenAI\n",
        "\n",
        "# Set your OpenAI API key - Replace 'your-openai-api-key' with your actual key\n",
        "os.environ[\"\"] = \"your-openai-api-key\"\n",
        "\n",
        "# Set your OpenAI API key\n",
        "openai_client = OpenAI(api_key=os.environ.get(\"OPENAI_API_KEY\"))\n",
        "\n",
        "def fact_check_with_openai(fact):\n",
        "    \"\"\"Fact checks a given fact using the OpenAI API.\"\"\"\n",
        "    try:\n",
        "        response = openai_client.chat.completions.create(\n",
        "            model=\"gpt-3.5-turbo\",\n",
        "            messages=[\n",
        "                {\"role\": \"system\", \"content\": \"You are a helpful fact-checker.\"},\n",
        "                {\"role\": \"user\", \"content\": f\"Fact check this: '{fact}'. Provide a concise response stating if it's true or false and a brief explanation.\"}\n",
        "            ],\n",
        "            max_tokens=100\n",
        "        )\n",
        "        return response.choices[0].message.content.strip()\n",
        "    except Exception as e:\n",
        "        print(f\"An error occurred while fact-checking '{fact}': {e}\")\n",
        "        return \"Error during fact-checking.\"\n",
        "\n",
        "fact_checked_results = []\n",
        "for fact in facts_to_check:\n",
        "    checked_response = fact_check_with_openai(fact)\n",
        "    fact_checked_results.append({\"original_fact\": fact, \"checked_response\": checked_response})\n",
        "\n",
        "print(fact_checked_results)"
      ],
      "execution_count": null,
      "outputs": [
        {
          "output_type": "stream",
          "name": "stdout",
          "text": [
            "An error occurred while fact-checking 'The capital of France is Berlin.': Error code: 401 - {'error': {'message': 'Incorrect API key provided: your-ope*******-key. You can find your API key at https://platform.openai.com/account/api-keys.', 'type': 'invalid_request_error', 'param': None, 'code': 'invalid_api_key'}}\n",
            "An error occurred while fact-checking 'The sun is a planet.': Error code: 401 - {'error': {'message': 'Incorrect API key provided: your-ope*******-key. You can find your API key at https://platform.openai.com/account/api-keys.', 'type': 'invalid_request_error', 'param': None, 'code': 'invalid_api_key'}}\n",
            "An error occurred while fact-checking 'Water boils at 100 degrees Celsius at standard atmospheric pressure.': Error code: 401 - {'error': {'message': 'Incorrect API key provided: your-ope*******-key. You can find your API key at https://platform.openai.com/account/api-keys.', 'type': 'invalid_request_error', 'param': None, 'code': 'invalid_api_key'}}\n",
            "An error occurred while fact-checking 'Birds can fly.': Error code: 401 - {'error': {'message': 'Incorrect API key provided: your-ope*******-key. You can find your API key at https://platform.openai.com/account/api-keys.', 'type': 'invalid_request_error', 'param': None, 'code': 'invalid_api_key'}}\n",
            "An error occurred while fact-checking 'Humans have gills.': Error code: 401 - {'error': {'message': 'Incorrect API key provided: your-ope*******-key. You can find your API key at https://platform.openai.com/account/api-keys.', 'type': 'invalid_request_error', 'param': None, 'code': 'invalid_api_key'}}\n",
            "[{'original_fact': 'The capital of France is Berlin.', 'checked_response': 'Error during fact-checking.'}, {'original_fact': 'The sun is a planet.', 'checked_response': 'Error during fact-checking.'}, {'original_fact': 'Water boils at 100 degrees Celsius at standard atmospheric pressure.', 'checked_response': 'Error during fact-checking.'}, {'original_fact': 'Birds can fly.', 'checked_response': 'Error during fact-checking.'}, {'original_fact': 'Humans have gills.', 'checked_response': 'Error during fact-checking.'}]\n"
          ]
        }
      ]
    },
    {
      "cell_type": "code",
      "source": [],
      "metadata": {
        "id": "8o21OApPw5_c"
      },
      "execution_count": null,
      "outputs": []
    },
    {
      "cell_type": "markdown",
      "metadata": {
        "id": "642003e9"
      },
      "source": [
        "## Process the output\n",
        "\n",
        "### Subtask:\n",
        "Parse the response from OpenAI to extract the fact-checked information.\n"
      ]
    },
    {
      "cell_type": "markdown",
      "metadata": {
        "id": "cce7218a"
      },
      "source": [
        "**Reasoning**:\n",
        "Iterate through the fact_checked_results list and parse the 'checked_response' string to extract the truth value and explanation. Update the dictionary with this extracted information.\n",
        "\n"
      ]
    },
    {
      "cell_type": "code",
      "metadata": {
        "colab": {
          "base_uri": "https://localhost:8080/"
        },
        "id": "126d1bca",
        "outputId": "46d47cd4-3114-4847-e40b-646a8712d2c2"
      },
      "source": [
        "parsed_results = []\n",
        "for item in fact_checked_results:\n",
        "    checked_response = item.get('checked_response', '')\n",
        "    truth_value = \"Unknown\"\n",
        "    explanation = checked_response\n",
        "\n",
        "    if \"True\" in checked_response:\n",
        "        truth_value = \"True\"\n",
        "        explanation = checked_response.replace(\"True: \", \"\", 1).strip()\n",
        "    elif \"False\" in checked_response:\n",
        "        truth_value = \"False\"\n",
        "        explanation = checked_response.replace(\"False: \", \"\", 1).strip()\n",
        "    elif \"Error\" in checked_response:\n",
        "        truth_value = \"Error\"\n",
        "        explanation = checked_response.strip()\n",
        "\n",
        "    parsed_results.append({\n",
        "        \"original_fact\": item.get('original_fact', ''),\n",
        "        \"truth_value\": truth_value,\n",
        "        \"explanation\": explanation\n",
        "    })\n",
        "\n",
        "print(parsed_results)"
      ],
      "execution_count": null,
      "outputs": [
        {
          "output_type": "stream",
          "name": "stdout",
          "text": [
            "[{'original_fact': 'The capital of France is Berlin.', 'truth_value': 'Error', 'explanation': 'Error during fact-checking.'}, {'original_fact': 'The sun is a planet.', 'truth_value': 'Error', 'explanation': 'Error during fact-checking.'}, {'original_fact': 'Water boils at 100 degrees Celsius at standard atmospheric pressure.', 'truth_value': 'Error', 'explanation': 'Error during fact-checking.'}, {'original_fact': 'Birds can fly.', 'truth_value': 'Error', 'explanation': 'Error during fact-checking.'}, {'original_fact': 'Humans have gills.', 'truth_value': 'Error', 'explanation': 'Error during fact-checking.'}]\n"
          ]
        }
      ]
    },
    {
      "cell_type": "markdown",
      "metadata": {
        "id": "9bd49cb7"
      },
      "source": [
        "## Save to google sheets\n",
        "\n",
        "### Subtask:\n",
        "Write code to append the original fact and the fact-checked output to a Google Sheet.\n"
      ]
    },
    {
      "cell_type": "markdown",
      "metadata": {
        "id": "a2dd2717"
      },
      "source": [
        "**Reasoning**:\n",
        "Write code to append the original fact and the fact-checked output to a Google Sheet using the authenticated sheets service.\n",
        "\n"
      ]
    },
    {
      "cell_type": "code",
      "metadata": {
        "colab": {
          "base_uri": "https://localhost:8080/",
          "height": 211
        },
        "id": "85becafd",
        "outputId": "b051ffea-644f-4781-b8b5-8a5246a739dd"
      },
      "source": [
        "# Define the Spreadsheet ID and the range\n",
        "# Replace 'YOUR_SPREADSHEET_ID' with your actual Spreadsheet ID\n",
        "SPREADSHEET_ID = 'YOUR_SPREADSHEET_ID'\n",
        "RANGE_NAME = 'Sheet1!A:C' # Assuming columns A, B, C for Original Fact, Truth Value, Explanation\n",
        "\n",
        "# Prepare the data to be written to the sheet\n",
        "values_to_write = []\n",
        "for result in parsed_results:\n",
        "    values_to_write.append([\n",
        "        result.get('original_fact', ''),\n",
        "        result.get('truth_value', ''),\n",
        "        result.get('explanation', '')\n",
        "    ])\n",
        "\n",
        "# Write the data to the Google Sheet\n",
        "try:\n",
        "    if sheets_service:\n",
        "        body = {\n",
        "            'values': values_to_write\n",
        "        }\n",
        "        result = sheets_service.values().append(\n",
        "            spreadsheetId=SPREADSHEET_ID,\n",
        "            range=RANGE_NAME,\n",
        "            valueInputOption='USER_ENTERED',\n",
        "            body=body\n",
        "        ).execute()\n",
        "        print(f\"{result.get('updates').get('updatedCells')} cells appended.\")\n",
        "    else:\n",
        "        print(\"Google Sheets service not available. Authentication failed in a previous step.\")\n",
        "except HttpError as error:\n",
        "    print(f\"An error occurred: {error}\")"
      ],
      "execution_count": null,
      "outputs": [
        {
          "output_type": "error",
          "ename": "NameError",
          "evalue": "name 'sheets_service' is not defined",
          "traceback": [
            "\u001b[0;31m---------------------------------------------------------------------------\u001b[0m",
            "\u001b[0;31mNameError\u001b[0m                                 Traceback (most recent call last)",
            "\u001b[0;32m/tmp/ipython-input-178498546.py\u001b[0m in \u001b[0;36m<cell line: 0>\u001b[0;34m()\u001b[0m\n\u001b[1;32m     15\u001b[0m \u001b[0;31m# Write the data to the Google Sheet\u001b[0m\u001b[0;34m\u001b[0m\u001b[0;34m\u001b[0m\u001b[0m\n\u001b[1;32m     16\u001b[0m \u001b[0;32mtry\u001b[0m\u001b[0;34m:\u001b[0m\u001b[0;34m\u001b[0m\u001b[0;34m\u001b[0m\u001b[0m\n\u001b[0;32m---> 17\u001b[0;31m     \u001b[0;32mif\u001b[0m \u001b[0msheets_service\u001b[0m\u001b[0;34m:\u001b[0m\u001b[0;34m\u001b[0m\u001b[0;34m\u001b[0m\u001b[0m\n\u001b[0m\u001b[1;32m     18\u001b[0m         body = {\n\u001b[1;32m     19\u001b[0m             \u001b[0;34m'values'\u001b[0m\u001b[0;34m:\u001b[0m \u001b[0mvalues_to_write\u001b[0m\u001b[0;34m\u001b[0m\u001b[0;34m\u001b[0m\u001b[0m\n",
            "\u001b[0;31mNameError\u001b[0m: name 'sheets_service' is not defined"
          ]
        }
      ]
    },
    {
      "cell_type": "markdown",
      "metadata": {
        "id": "ecac8b68"
      },
      "source": [
        "**Reasoning**:\n",
        "The previous code failed because the `sheets_service` variable was not defined in the current session. I need to re-execute the authentication code to make the `sheets_service` available.\n",
        "\n"
      ]
    },
    {
      "cell_type": "code",
      "metadata": {
        "colab": {
          "base_uri": "https://localhost:8080/",
          "height": 339
        },
        "id": "yt7KJ1wPv6Y3",
        "outputId": "d4ddebc2-881d-4de6-ecb4-1050e606f4f0"
      },
      "source": [
        "import os.path\n",
        "\n",
        "from google.auth.transport.requests import Request\n",
        "from google.oauth2.credentials import Credentials\n",
        "from google_auth_oauthlib.flow import InstalledAppFlow\n",
        "from googleapiclient.discovery import build\n",
        "from googleapiclient.errors import HttpError\n",
        "\n",
        "# If modifying these scopes, delete the file token.json.\n",
        "SCOPES = [\"https://www.googleapis.com/auth/spreadsheets\"]\n",
        "\n",
        "def authenticate_google_sheets():\n",
        "  \"\"\"Shows basic usage of the Sheets API.\n",
        "  Prints values from a sample spreadsheet.\n",
        "  \"\"\"\n",
        "  creds = None\n",
        "  # The file token.json stores the user's access and refresh tokens, and is\n",
        "  # created automatically when the authorization flow completes for the first\n",
        "  # time.\n",
        "  if os.path.exists(\"token.json\"):\n",
        "    creds = Credentials.from_authorized_user_file(\"token.json\", SCOPES)\n",
        "  # If there are no (valid) credentials available, let the user log in.\n",
        "  if not creds or not creds.valid:\n",
        "    if creds and creds.expired and creds.refresh_token:\n",
        "      creds.refresh(Request())\n",
        "    else:\n",
        "      flow = InstalledAppFlow.from_client_secrets_file(\n",
        "          \"credentials.json\", SCOPES\n",
        "      )\n",
        "      creds = flow.run_local_server(port=0)\n",
        "    # Save the credentials for the next run\n",
        "    with open(\"token.json\", \"w\") as token:\n",
        "      token.write(creds.to_json())\n",
        "\n",
        "  try:\n",
        "    service = build(\"sheets\", \"v4\", credentials=creds)\n",
        "    print(\"Successfully authenticated with Google Sheets API.\")\n",
        "    return service\n",
        "  except HttpError as err:\n",
        "    print(err)\n",
        "    return None\n",
        "\n",
        "# Call the authentication function\n",
        "sheets_service = authenticate_google_sheets()"
      ],
      "execution_count": null,
      "outputs": [
        {
          "output_type": "error",
          "ename": "FileNotFoundError",
          "evalue": "[Errno 2] No such file or directory: 'credentials.json'",
          "traceback": [
            "\u001b[0;31m---------------------------------------------------------------------------\u001b[0m",
            "\u001b[0;31mFileNotFoundError\u001b[0m                         Traceback (most recent call last)",
            "\u001b[0;32m/tmp/ipython-input-2601939104.py\u001b[0m in \u001b[0;36m<cell line: 0>\u001b[0;34m()\u001b[0m\n\u001b[1;32m     42\u001b[0m \u001b[0;34m\u001b[0m\u001b[0m\n\u001b[1;32m     43\u001b[0m \u001b[0;31m# Call the authentication function\u001b[0m\u001b[0;34m\u001b[0m\u001b[0;34m\u001b[0m\u001b[0m\n\u001b[0;32m---> 44\u001b[0;31m \u001b[0msheets_service\u001b[0m \u001b[0;34m=\u001b[0m \u001b[0mauthenticate_google_sheets\u001b[0m\u001b[0;34m(\u001b[0m\u001b[0;34m)\u001b[0m\u001b[0;34m\u001b[0m\u001b[0;34m\u001b[0m\u001b[0m\n\u001b[0m",
            "\u001b[0;32m/tmp/ipython-input-2601939104.py\u001b[0m in \u001b[0;36mauthenticate_google_sheets\u001b[0;34m()\u001b[0m\n\u001b[1;32m     25\u001b[0m       \u001b[0mcreds\u001b[0m\u001b[0;34m.\u001b[0m\u001b[0mrefresh\u001b[0m\u001b[0;34m(\u001b[0m\u001b[0mRequest\u001b[0m\u001b[0;34m(\u001b[0m\u001b[0;34m)\u001b[0m\u001b[0;34m)\u001b[0m\u001b[0;34m\u001b[0m\u001b[0;34m\u001b[0m\u001b[0m\n\u001b[1;32m     26\u001b[0m     \u001b[0;32melse\u001b[0m\u001b[0;34m:\u001b[0m\u001b[0;34m\u001b[0m\u001b[0;34m\u001b[0m\u001b[0m\n\u001b[0;32m---> 27\u001b[0;31m       flow = InstalledAppFlow.from_client_secrets_file(\n\u001b[0m\u001b[1;32m     28\u001b[0m           \u001b[0;34m\"credentials.json\"\u001b[0m\u001b[0;34m,\u001b[0m \u001b[0mSCOPES\u001b[0m\u001b[0;34m\u001b[0m\u001b[0;34m\u001b[0m\u001b[0m\n\u001b[1;32m     29\u001b[0m       )\n",
            "\u001b[0;32m/usr/local/lib/python3.11/dist-packages/google_auth_oauthlib/flow.py\u001b[0m in \u001b[0;36mfrom_client_secrets_file\u001b[0;34m(cls, client_secrets_file, scopes, **kwargs)\u001b[0m\n\u001b[1;32m    196\u001b[0m             \u001b[0mFlow\u001b[0m\u001b[0;34m:\u001b[0m \u001b[0mThe\u001b[0m \u001b[0mconstructed\u001b[0m \u001b[0mFlow\u001b[0m \u001b[0minstance\u001b[0m\u001b[0;34m.\u001b[0m\u001b[0;34m\u001b[0m\u001b[0;34m\u001b[0m\u001b[0m\n\u001b[1;32m    197\u001b[0m         \"\"\"\n\u001b[0;32m--> 198\u001b[0;31m         \u001b[0;32mwith\u001b[0m \u001b[0mopen\u001b[0m\u001b[0;34m(\u001b[0m\u001b[0mclient_secrets_file\u001b[0m\u001b[0;34m,\u001b[0m \u001b[0;34m\"r\"\u001b[0m\u001b[0;34m)\u001b[0m \u001b[0;32mas\u001b[0m \u001b[0mjson_file\u001b[0m\u001b[0;34m:\u001b[0m\u001b[0;34m\u001b[0m\u001b[0;34m\u001b[0m\u001b[0m\n\u001b[0m\u001b[1;32m    199\u001b[0m             \u001b[0mclient_config\u001b[0m \u001b[0;34m=\u001b[0m \u001b[0mjson\u001b[0m\u001b[0;34m.\u001b[0m\u001b[0mload\u001b[0m\u001b[0;34m(\u001b[0m\u001b[0mjson_file\u001b[0m\u001b[0;34m)\u001b[0m\u001b[0;34m\u001b[0m\u001b[0;34m\u001b[0m\u001b[0m\n\u001b[1;32m    200\u001b[0m \u001b[0;34m\u001b[0m\u001b[0m\n",
            "\u001b[0;31mFileNotFoundError\u001b[0m: [Errno 2] No such file or directory: 'credentials.json'"
          ]
        }
      ]
    },
    {
      "cell_type": "markdown",
      "metadata": {
        "id": "0fa5814a"
      },
      "source": [
        "## Save to google sheets - retry 1\n",
        "\n",
        "### Subtask:\n",
        "Retry saving to google sheets after addressing the authentication issue.\n"
      ]
    },
    {
      "cell_type": "markdown",
      "metadata": {
        "id": "476f2210"
      },
      "source": [
        "**Reasoning**:\n",
        "Define the spreadsheet ID and range, prepare the data, and attempt to append the data to the Google Sheet using the previously obtained `sheets_service`. Handle potential exceptions during the writing process.\n",
        "\n"
      ]
    },
    {
      "cell_type": "code",
      "metadata": {
        "colab": {
          "base_uri": "https://localhost:8080/",
          "height": 211
        },
        "id": "86f769b6",
        "outputId": "aa10176e-e162-43bb-ab56-d88799203210"
      },
      "source": [
        "# Define the spreadsheet ID and the range\n",
        "# Replace 'YOUR_SPREADSHEET_ID' with the actual ID of your Google Sheet\n",
        "SPREADSHEET_ID = 'YOUR_SPREADSHEET_ID'\n",
        "RANGE_NAME = 'Sheet1!A:C'  # Assuming you want to write to columns A, B, and C of Sheet1\n",
        "\n",
        "# Prepare the data to be written\n",
        "# Each inner list represents a row: [original_fact, truth_value, explanation]\n",
        "values_to_write = []\n",
        "for item in parsed_results:\n",
        "    values_to_write.append([\n",
        "        item.get('original_fact', ''),\n",
        "        item.get('truth_value', ''),\n",
        "        item.get('explanation', '')\n",
        "    ])\n",
        "\n",
        "if sheets_service:\n",
        "    try:\n",
        "        body = {\n",
        "            'values': values_to_write\n",
        "        }\n",
        "        result = sheets_service.spreadsheets().values().append(\n",
        "            spreadsheetId=SPREADSHEET_ID,\n",
        "            range=RANGE_NAME,\n",
        "            valueInputOption='USER_ENTERED',\n",
        "            insertDataOption='INSERT_ROWS',\n",
        "            body=body\n",
        "        ).execute()\n",
        "        print(f\"{result.get('updates').get('updatedCells')} cells appended.\")\n",
        "    except HttpError as error:\n",
        "        print(f\"An error occurred: {error}\")\n",
        "    except Exception as e:\n",
        "        print(f\"An unexpected error occurred: {e}\")\n",
        "else:\n",
        "    print(\"Google Sheets service not available. Authentication failed in a previous step.\")\n"
      ],
      "execution_count": null,
      "outputs": [
        {
          "output_type": "error",
          "ename": "NameError",
          "evalue": "name 'sheets_service' is not defined",
          "traceback": [
            "\u001b[0;31m---------------------------------------------------------------------------\u001b[0m",
            "\u001b[0;31mNameError\u001b[0m                                 Traceback (most recent call last)",
            "\u001b[0;32m/tmp/ipython-input-1858268821.py\u001b[0m in \u001b[0;36m<cell line: 0>\u001b[0;34m()\u001b[0m\n\u001b[1;32m     14\u001b[0m     ])\n\u001b[1;32m     15\u001b[0m \u001b[0;34m\u001b[0m\u001b[0m\n\u001b[0;32m---> 16\u001b[0;31m \u001b[0;32mif\u001b[0m \u001b[0msheets_service\u001b[0m\u001b[0;34m:\u001b[0m\u001b[0;34m\u001b[0m\u001b[0;34m\u001b[0m\u001b[0m\n\u001b[0m\u001b[1;32m     17\u001b[0m     \u001b[0;32mtry\u001b[0m\u001b[0;34m:\u001b[0m\u001b[0;34m\u001b[0m\u001b[0;34m\u001b[0m\u001b[0m\n\u001b[1;32m     18\u001b[0m         body = {\n",
            "\u001b[0;31mNameError\u001b[0m: name 'sheets_service' is not defined"
          ]
        }
      ]
    },
    {
      "cell_type": "markdown",
      "metadata": {
        "id": "2143f213"
      },
      "source": [
        "**Reasoning**:\n",
        "The previous attempt failed because `sheets_service` was not defined. Re-authenticate with Google Sheets API to get the `sheets_service` object and then attempt to save the data to the sheet again. This addresses the authentication issue from the previous step and retries the saving process.\n",
        "\n"
      ]
    },
    {
      "cell_type": "code",
      "metadata": {
        "colab": {
          "base_uri": "https://localhost:8080/",
          "height": 373
        },
        "id": "e-9YMQHWwAOl",
        "outputId": "201bd23c-1b85-41c9-adf4-2b0c79f0adcc"
      },
      "source": [
        "import os.path\n",
        "\n",
        "from google.auth.transport.requests import Request\n",
        "from google.oauth2.credentials import Credentials\n",
        "from google_auth_oauthlib.flow import InstalledAppFlow\n",
        "from googleapiclient.discovery import build\n",
        "from googleapiclient.errors import HttpError\n",
        "\n",
        "# If modifying these scopes, delete the file token.json.\n",
        "SCOPES = [\"https://www.googleapis.com/auth/spreadsheets\"]\n",
        "\n",
        "def authenticate_google_sheets():\n",
        "  \"\"\"Shows basic usage of the Sheets API.\n",
        "  Prints values from a sample spreadsheet.\n",
        "  \"\"\"\n",
        "  creds = None\n",
        "  # The file token.json stores the user's access and refresh tokens, and is\n",
        "  # created automatically when the authorization flow completes for the first\n",
        "  # time.\n",
        "  if os.path.exists(\"token.json\"):\n",
        "    creds = Credentials.from_authorized_user_file(\"token.json\", SCOPES)\n",
        "  # If there are no (valid) credentials available, let the user log in.\n",
        "  if not creds or not creds.valid:\n",
        "    if creds and creds.expired and creds.refresh_token:\n",
        "      creds.refresh(Request())\n",
        "    else:\n",
        "      flow = InstalledAppFlow.from_client_secrets_file(\n",
        "          \"credentials.json\", SCOPES\n",
        "      )\n",
        "      creds = flow.run_local_server(port=0)\n",
        "    # Save the credentials for the next run\n",
        "    with open(\"token.json\", \"w\") as token:\n",
        "      token.write(creds.to_json())\n",
        "\n",
        "  try:\n",
        "    service = build(\"sheets\", \"v4\", credentials=creds)\n",
        "    print(\"Successfully authenticated with Google Sheets API.\")\n",
        "    return service\n",
        "  except HttpError as err:\n",
        "    print(err)\n",
        "    return None\n",
        "\n",
        "# Call the authentication function\n",
        "sheets_service = authenticate_google_sheets()\n",
        "\n",
        "# Define the spreadsheet ID and the range\n",
        "# Replace 'YOUR_SPREADSHEET_ID' with the actual ID of your Google Sheet\n",
        "SPREADSHEET_ID = 'YOUR_SPREADSHEET_ID'\n",
        "RANGE_NAME = 'Sheet1!A:C'  # Assuming you want to write to columns A, B, and C of Sheet1\n",
        "\n",
        "# Prepare the data to be written\n",
        "# Each inner list represents a row: [original_fact, truth_value, explanation]\n",
        "values_to_write = []\n",
        "# Assuming 'parsed_results' is available from a previous step\n",
        "for item in parsed_results:\n",
        "    values_to_write.append([\n",
        "        item.get('original_fact', ''),\n",
        "        item.get('truth_value', ''),\n",
        "        item.get('explanation', '')\n",
        "    ])\n",
        "\n",
        "if sheets_service:\n",
        "    try:\n",
        "        body = {\n",
        "            'values': values_to_write\n",
        "        }\n",
        "        result = sheets_service.spreadsheets().values().append(\n",
        "            spreadsheetId=SPREADSHEET_ID,\n",
        "            range=RANGE_NAME,\n",
        "            valueInputOption='USER_ENTERED',\n",
        "            insertDataOption='INSERT_ROWS',\n",
        "            body=body\n",
        "        ).execute()\n",
        "        print(f\"{result.get('updates').get('updatedCells')} cells appended.\")\n",
        "    except HttpError as error:\n",
        "        print(f\"An error occurred: {error}\")\n",
        "    except Exception as e:\n",
        "        print(f\"An unexpected error occurred: {e}\")\n",
        "else:\n",
        "    print(\"Google Sheets service not available. Authentication failed.\")"
      ],
      "execution_count": null,
      "outputs": [
        {
          "output_type": "error",
          "ename": "FileNotFoundError",
          "evalue": "[Errno 2] No such file or directory: 'credentials.json'",
          "traceback": [
            "\u001b[0;31m---------------------------------------------------------------------------\u001b[0m",
            "\u001b[0;31mFileNotFoundError\u001b[0m                         Traceback (most recent call last)",
            "\u001b[0;32m/tmp/ipython-input-1238425242.py\u001b[0m in \u001b[0;36m<cell line: 0>\u001b[0;34m()\u001b[0m\n\u001b[1;32m     42\u001b[0m \u001b[0;34m\u001b[0m\u001b[0m\n\u001b[1;32m     43\u001b[0m \u001b[0;31m# Call the authentication function\u001b[0m\u001b[0;34m\u001b[0m\u001b[0;34m\u001b[0m\u001b[0m\n\u001b[0;32m---> 44\u001b[0;31m \u001b[0msheets_service\u001b[0m \u001b[0;34m=\u001b[0m \u001b[0mauthenticate_google_sheets\u001b[0m\u001b[0;34m(\u001b[0m\u001b[0;34m)\u001b[0m\u001b[0;34m\u001b[0m\u001b[0;34m\u001b[0m\u001b[0m\n\u001b[0m\u001b[1;32m     45\u001b[0m \u001b[0;34m\u001b[0m\u001b[0m\n\u001b[1;32m     46\u001b[0m \u001b[0;31m# Define the spreadsheet ID and the range\u001b[0m\u001b[0;34m\u001b[0m\u001b[0;34m\u001b[0m\u001b[0m\n",
            "\u001b[0;32m/tmp/ipython-input-1238425242.py\u001b[0m in \u001b[0;36mauthenticate_google_sheets\u001b[0;34m()\u001b[0m\n\u001b[1;32m     25\u001b[0m       \u001b[0mcreds\u001b[0m\u001b[0;34m.\u001b[0m\u001b[0mrefresh\u001b[0m\u001b[0;34m(\u001b[0m\u001b[0mRequest\u001b[0m\u001b[0;34m(\u001b[0m\u001b[0;34m)\u001b[0m\u001b[0;34m)\u001b[0m\u001b[0;34m\u001b[0m\u001b[0;34m\u001b[0m\u001b[0m\n\u001b[1;32m     26\u001b[0m     \u001b[0;32melse\u001b[0m\u001b[0;34m:\u001b[0m\u001b[0;34m\u001b[0m\u001b[0;34m\u001b[0m\u001b[0m\n\u001b[0;32m---> 27\u001b[0;31m       flow = InstalledAppFlow.from_client_secrets_file(\n\u001b[0m\u001b[1;32m     28\u001b[0m           \u001b[0;34m\"credentials.json\"\u001b[0m\u001b[0;34m,\u001b[0m \u001b[0mSCOPES\u001b[0m\u001b[0;34m\u001b[0m\u001b[0;34m\u001b[0m\u001b[0m\n\u001b[1;32m     29\u001b[0m       )\n",
            "\u001b[0;32m/usr/local/lib/python3.11/dist-packages/google_auth_oauthlib/flow.py\u001b[0m in \u001b[0;36mfrom_client_secrets_file\u001b[0;34m(cls, client_secrets_file, scopes, **kwargs)\u001b[0m\n\u001b[1;32m    196\u001b[0m             \u001b[0mFlow\u001b[0m\u001b[0;34m:\u001b[0m \u001b[0mThe\u001b[0m \u001b[0mconstructed\u001b[0m \u001b[0mFlow\u001b[0m \u001b[0minstance\u001b[0m\u001b[0;34m.\u001b[0m\u001b[0;34m\u001b[0m\u001b[0;34m\u001b[0m\u001b[0m\n\u001b[1;32m    197\u001b[0m         \"\"\"\n\u001b[0;32m--> 198\u001b[0;31m         \u001b[0;32mwith\u001b[0m \u001b[0mopen\u001b[0m\u001b[0;34m(\u001b[0m\u001b[0mclient_secrets_file\u001b[0m\u001b[0;34m,\u001b[0m \u001b[0;34m\"r\"\u001b[0m\u001b[0;34m)\u001b[0m \u001b[0;32mas\u001b[0m \u001b[0mjson_file\u001b[0m\u001b[0;34m:\u001b[0m\u001b[0;34m\u001b[0m\u001b[0;34m\u001b[0m\u001b[0m\n\u001b[0m\u001b[1;32m    199\u001b[0m             \u001b[0mclient_config\u001b[0m \u001b[0;34m=\u001b[0m \u001b[0mjson\u001b[0m\u001b[0;34m.\u001b[0m\u001b[0mload\u001b[0m\u001b[0;34m(\u001b[0m\u001b[0mjson_file\u001b[0m\u001b[0;34m)\u001b[0m\u001b[0;34m\u001b[0m\u001b[0;34m\u001b[0m\u001b[0m\n\u001b[1;32m    200\u001b[0m \u001b[0;34m\u001b[0m\u001b[0m\n",
            "\u001b[0;31mFileNotFoundError\u001b[0m: [Errno 2] No such file or directory: 'credentials.json'"
          ]
        }
      ]
    },
    {
      "cell_type": "markdown",
      "metadata": {
        "id": "3d3fa677"
      },
      "source": [
        "## Summary:\n",
        "\n",
        "### Data Analysis Key Findings\n",
        "\n",
        "*   The initial setup and authentication with the Google Sheets API failed because the `credentials.json` file was not found.\n",
        "*   The process of fact-checking using the OpenAI API encountered errors due to using an outdated method call (`openai.ChatCompletion.create`) and, subsequently, a missing OpenAI API key environment variable.\n",
        "*   Despite the OpenAI API errors, the code for parsing the results successfully processed the error messages and extracted the information into a structured format.\n",
        "*   Saving the processed data to Google Sheets failed repeatedly due to the persistent issue of the missing `credentials.json` file, which prevented successful authentication with the Google Sheets API.\n",
        "\n",
        "### Insights or Next Steps\n",
        "\n",
        "*   To proceed, the user needs to provide the `credentials.json` file from their Google Cloud Console to enable Google Sheets API authentication.\n",
        "*   Ensure the `OPENAI_API_KEY` environment variable is correctly set with a valid API key to allow the OpenAI API calls to succeed.\n"
      ]
    }
  ]
}